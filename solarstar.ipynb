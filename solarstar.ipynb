{
 "cells": [
  {
   "cell_type": "markdown",
   "metadata": {},
   "source": [
    "#### **Maximum Energy Consumption**"
   ]
  },
  {
   "cell_type": "markdown",
   "metadata": {},
   "source": [
    "KWH per month = **270kwh**\n",
    "\n",
    "KWH per day = **9kwh**\n",
    "\n",
    "WH per day = **9000wh**"
   ]
  },
  {
   "cell_type": "markdown",
   "metadata": {},
   "source": [
    "#### **Power Estimated Loss**"
   ]
  },
  {
   "cell_type": "markdown",
   "metadata": {},
   "source": [
    "System loss = 3%\n",
    "\n",
    "Wiring loss = 2%\n",
    "\n",
    "MPPT loss = 10%\n",
    "\n",
    "Lead-Acid loss = 15%\n",
    "\n",
    "Solar-Inverter loss = 10%"
   ]
  },
  {
   "cell_type": "markdown",
   "metadata": {},
   "source": [
    "Total loss = **35%**"
   ]
  },
  {
   "cell_type": "markdown",
   "metadata": {},
   "source": [
    "#### **Load Computation**"
   ]
  },
  {
   "cell_type": "markdown",
   "metadata": {},
   "source": [
    "Load = **12150wh** = (9000wh + 35%)\n",
    "\n",
    "Days of autonomy = 1.5\n",
    "\n",
    "Total load = **18225wh** = 12150 * 1.5"
   ]
  },
  {
   "cell_type": "markdown",
   "metadata": {},
   "source": [
    "**Days of autonomy**"
   ]
  },
  {
   "cell_type": "markdown",
   "metadata": {},
   "source": [
    "Days of back-up power, is for how many days of usage the battery bank can last as per estimated usage per day even if the solar panel does not generate power and only the stored energy from the battery is used.\n",
    "\n",
    "For example, the battery is fully charged, then the next morning the weather is cloudy or raining so the harvest or charging of battery is not good, but the battery can still supply the required power as per daily usage consumption."
   ]
  },
  {
   "cell_type": "markdown",
   "metadata": {},
   "source": [
    "#### **Battery Needed**"
   ]
  },
  {
   "cell_type": "markdown",
   "metadata": {},
   "source": [
    "**Depth of Discharge**"
   ]
  },
  {
   "cell_type": "markdown",
   "metadata": {},
   "source": [
    "Each type of battery has a recommended capacity before recharging again to maximize the lifespan of the battery.  \n",
    "\n",
    "Minimum Discharge of Lead Acid Battery = 50%\n",
    "\n",
    "Minimum Discharge of Lithium Battery = 20%"
   ]
  },
  {
   "cell_type": "markdown",
   "metadata": {},
   "source": [
    "If 18,225wh is 50% capacity of the battery.\n",
    "\n",
    "```\n",
    "18,225 = 0.5\n",
    "18,225 * 2 = 0.5 * 2\n",
    "36,450 = 1\n",
    "\n",
    "Then, 18,225wh + 18,225wh = 36,450wh\n",
    "```"
   ]
  },
  {
   "cell_type": "markdown",
   "metadata": {},
   "source": [
    "\n",
    "If 18,225wh is 80% capacity of the battery.\n",
    "\n",
    "```\n",
    "18,225 = 0.8\n",
    "18,225 * 1.25 = 0.8 * 1.25\n",
    "22,781 = 1\n",
    "\n",
    "Then, 18,225wh + 3,645wh = 22,781wh\n",
    "```"
   ]
  },
  {
   "cell_type": "markdown",
   "metadata": {},
   "source": [
    "**Watt Hour Required**"
   ]
  },
  {
   "cell_type": "markdown",
   "metadata": {},
   "source": [
    "Formula: I = P/V\n",
    "\n",
    "A = **1899Ah** = 22,781wh / 12V \n",
    "\n",
    "Total Battery Capacity = **22788wh**"
   ]
  },
  {
   "cell_type": "markdown",
   "metadata": {},
   "source": [
    "**Distributed Caluculation**"
   ]
  },
  {
   "cell_type": "markdown",
   "metadata": {},
   "source": [
    "Battery Specs = 1200w = 12V 100Ah\n",
    "\n",
    "Number of Batteries = **18** = 22788 / 1200"
   ]
  },
  {
   "cell_type": "markdown",
   "metadata": {},
   "source": [
    "#### **Solar Panel Needed** "
   ]
  },
  {
   "cell_type": "markdown",
   "metadata": {},
   "source": [
    "36,450wh * 0.5 = **18,225wh** = 18,225wh\n",
    "\n",
    "22,788wh * 0.8 = **18,231wh** > 18,225wh"
   ]
  },
  {
   "cell_type": "markdown",
   "metadata": {},
   "source": [
    "**Peak Sun Hour**"
   ]
  },
  {
   "cell_type": "markdown",
   "metadata": {},
   "source": [
    "Sun hours is the average solar radiation in one place and is used to estimate solar energy production. It measures the total intensity of sunlight that is 1000 per square meter per hour. Average day is not taken from sunrise to sunset, and sun hours vary from different places. \n",
    "\n",
    "In the Philippines, peak sun hour is between **3.5 to 4.8**"
   ]
  },
  {
   "cell_type": "markdown",
   "metadata": {},
   "source": [
    "**Watts Required**"
   ]
  },
  {
   "cell_type": "markdown",
   "metadata": {},
   "source": [
    "Total Panel Demand = **4558w** = 18,231wh / 4 hrs "
   ]
  },
  {
   "cell_type": "markdown",
   "metadata": {},
   "source": [
    "**Distributed Calculation**"
   ]
  },
  {
   "cell_type": "markdown",
   "metadata": {},
   "source": [
    "Panel Specs = 300w\n",
    "\n",
    "Number of Panels = **16** = 4558 / 300 "
   ]
  }
 ],
 "metadata": {
  "language_info": {
   "name": "python"
  }
 },
 "nbformat": 4,
 "nbformat_minor": 2
}
