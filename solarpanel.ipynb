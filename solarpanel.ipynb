{
 "cells": [
  {
   "cell_type": "code",
   "execution_count": 570,
   "metadata": {},
   "outputs": [],
   "source": [
    "import math "
   ]
  },
  {
   "cell_type": "markdown",
   "metadata": {},
   "source": [
    "#### **Energy Consumption**"
   ]
  },
  {
   "cell_type": "code",
   "execution_count": 571,
   "metadata": {},
   "outputs": [],
   "source": [
    "# get this from electricity bill\n",
    "KWH_CONS_PER_MONTH = 270"
   ]
  },
  {
   "cell_type": "code",
   "execution_count": 572,
   "metadata": {},
   "outputs": [],
   "source": [
    "# conversion factor\n",
    "KWH_CONS_PER_DAY   = KWH_CONS_PER_MONTH / 30 \n",
    "WH_CONS_PER_DAY    = KWH_CONS_PER_DAY * 1000"
   ]
  },
  {
   "cell_type": "code",
   "execution_count": 573,
   "metadata": {},
   "outputs": [
    {
     "name": "stdout",
     "output_type": "stream",
     "text": [
      "KWH consumption per day:  9.0\n",
      "WH consumption per day:  9000.0\n"
     ]
    }
   ],
   "source": [
    "print('KWH consumption per day: ', KWH_CONS_PER_DAY)\n",
    "print('WH consumption per day: ', WH_CONS_PER_DAY)"
   ]
  },
  {
   "cell_type": "markdown",
   "metadata": {},
   "source": [
    "#### **Load Computation**"
   ]
  },
  {
   "cell_type": "code",
   "execution_count": 574,
   "metadata": {},
   "outputs": [],
   "source": [
    "LOSS_RATE = 0.35 # 35% estimated power loss \n",
    "DAYS_OF_AUTONOMY = 1.5 # one and a half day\n"
   ]
  },
  {
   "cell_type": "code",
   "execution_count": 575,
   "metadata": {},
   "outputs": [],
   "source": [
    "# take loss into account\n",
    "SYSTEM_LOSS = WH_CONS_PER_DAY * LOSS_RATE \n",
    "\n",
    "# multiply load by days of autonomy\n",
    "SUSTAINABLE_LOAD = (WH_CONS_PER_DAY + SYSTEM_LOSS) * DAYS_OF_AUTONOMY "
   ]
  },
  {
   "cell_type": "code",
   "execution_count": 576,
   "metadata": {},
   "outputs": [
    {
     "name": "stdout",
     "output_type": "stream",
     "text": [
      "\n",
      "+ System Loss:      35.0% (3150.0 Wh of 9000.0 Wh)   \n",
      "* Days of autonomy: 1.5 days\n",
      "= Sustainable Load: 18225.0 Wh\n",
      "\n"
     ]
    }
   ],
   "source": [
    "print(f'''\n",
    "+ System Loss:      {LOSS_RATE * 100}% ({SYSTEM_LOSS} Wh of {WH_CONS_PER_DAY} Wh)   \n",
    "* Days of autonomy: {DAYS_OF_AUTONOMY} days\n",
    "= Sustainable Load: {SUSTAINABLE_LOAD} Wh\n",
    "''')"
   ]
  },
  {
   "cell_type": "markdown",
   "metadata": {},
   "source": [
    "#### **Solar Panel Needed** "
   ]
  },
  {
   "cell_type": "code",
   "execution_count": 577,
   "metadata": {},
   "outputs": [],
   "source": [
    "# panel specs\n",
    "PANEL_PRICE = 1057 # https://shopee.ph/Solar-Panel-200W-400W-Household-Charging-Panel-Monocrystalline-Silicon-Band-20A-Controller-i.668468337.21879651244\n",
    "PANEL_WATTAGE = 400"
   ]
  },
  {
   "cell_type": "code",
   "execution_count": 578,
   "metadata": {},
   "outputs": [],
   "source": [
    "# average peak sun hours in the philippines\n",
    "PEAK_SUN_HOURS = 6\n",
    "\n",
    "# panel wattage required\n",
    "SOLAR_PANEL_WATTAGE = SUSTAINABLE_LOAD / PEAK_SUN_HOURS\n",
    "\n",
    "# number of panels needed\n",
    "NUMBER_OF_SOLAR_PANELS = SOLAR_PANEL_WATTAGE / PANEL_WATTAGE"
   ]
  },
  {
   "cell_type": "code",
   "execution_count": 579,
   "metadata": {},
   "outputs": [
    {
     "name": "stdout",
     "output_type": "stream",
     "text": [
      "\n",
      "Solar Panel: \n",
      "   Count:   8\n",
      "   Wattage: 400 W\n",
      "   Price:   ₱1057\n",
      "   Cost:    ₱8027\n",
      "\n"
     ]
    }
   ],
   "source": [
    "print(f'''\n",
    "Solar Panel: \n",
    "   Count:   {math.ceil(NUMBER_OF_SOLAR_PANELS)}\n",
    "   Wattage: {PANEL_WATTAGE} W\n",
    "   Price:   ₱{PANEL_PRICE}\n",
    "   Cost:    ₱{math.ceil(PANEL_PRICE * NUMBER_OF_SOLAR_PANELS)}\n",
    "''')"
   ]
  },
  {
   "cell_type": "markdown",
   "metadata": {},
   "source": [
    "#### **Battery Needed**"
   ]
  },
  {
   "cell_type": "code",
   "execution_count": 580,
   "metadata": {},
   "outputs": [],
   "source": [
    "# battery specs\n",
    "LEAD_ACID_PRICE = 6696 # https://shopee.ph/500Ah-12V-Deep-Cycle-SEALED-GEL-Battery-for-Leisure-Solar-Wind-Off-grid-i.520365508.22584207011?sp_atk=c4411b0c-a84a-4793-a4f4-df66c8cbd945&xptdk=c4411b0c-a84a-4793-a4f4-df66c8cbd945\n",
    "LITHIUM_PRICE = 45488 # https://shopee.ph/12V-100Ah-200Ah-250Ah-300Ah-400Ah-500Ah-LiFePo4-Battery-Pack-With-BMS-Lithium-Iron-Phosphate-Batteri-i.797820360.18422860430?sp_atk=d6b061cf-47c1-4438-a1db-370d2f77dacb&xptdk=d6b061cf-47c1-4438-a1db-370d2f77dacb\n",
    "BATTERY_VOLTAGE = 12\n",
    "BATTERY_AMPHOUR = 500\n",
    "BATTERY_WATTAGE = BATTERY_VOLTAGE * BATTERY_AMPHOUR"
   ]
  },
  {
   "cell_type": "code",
   "execution_count": 581,
   "metadata": {},
   "outputs": [],
   "source": [
    "# lead-acid demand capacity only 50% of the battery, increase by 2x\n",
    "LEAD_ACID_WATTHOUR = SUSTAINABLE_LOAD * 2    # 0.5 * 2 = 1 \n",
    "\n",
    "# lithium-ion demand capacity only 80% of the battery, increase by 1.25x\n",
    "LITHIUM_WATTHOUR   = SUSTAINABLE_LOAD * 1.25 # 0.8 * 1.25 = 1 \n",
    "\n",
    "# amp hour demand\n",
    "LEAD_ACID_AMPHOUR  = LEAD_ACID_WATTHOUR / BATTERY_VOLTAGE\n",
    "LITHIUM_AMPHOUR    = LITHIUM_WATTHOUR   / BATTERY_VOLTAGE \n",
    "\n",
    "# number of batteries needed\n",
    "NUMBER_OF_LITHIUM_BATTERY   = LITHIUM_WATTHOUR   / BATTERY_WATTAGE\n",
    "NUMBER_OF_LEAD_ACID_BATTERY = LEAD_ACID_WATTHOUR / BATTERY_WATTAGE"
   ]
  },
  {
   "cell_type": "code",
   "execution_count": 582,
   "metadata": {},
   "outputs": [
    {
     "name": "stdout",
     "output_type": "stream",
     "text": [
      "\n",
      "Capacity Demand:\n",
      "   Lead Acid Watt Hour: 36450.0 Wh\n",
      "   Lithium   Watt Hour: 22781.25 Wh\n",
      "   Lead Acid Amp Hour:  3037.5 Ah\n",
      "   Lithium   Amp Hour:  1898.4375 Ah\n",
      "\n",
      "Lead Acid Battery: \n",
      "   Count: 7 \n",
      "   Rate:  50%\n",
      "   Specs: 12V 500Ah\n",
      "   Price: ₱6696\n",
      "   Cost:  ₱40679\n",
      "   \n",
      "Lithium Battery: \n",
      "   Count: 4\n",
      "   Rate:  80%\n",
      "   Specs: 12V 500Ah\n",
      "   Price: ₱45488\n",
      "   Cost:  ₱172713\n",
      "\n"
     ]
    }
   ],
   "source": [
    "print(f'''\n",
    "Capacity Demand:\n",
    "   Lead Acid Watt Hour: {LEAD_ACID_WATTHOUR} Wh\n",
    "   Lithium   Watt Hour: {LITHIUM_WATTHOUR} Wh\n",
    "   Lead Acid Amp Hour:  {LEAD_ACID_AMPHOUR} Ah\n",
    "   Lithium   Amp Hour:  {LITHIUM_AMPHOUR} Ah\n",
    "\n",
    "Lead Acid Battery: \n",
    "   Count: {math.ceil(NUMBER_OF_LEAD_ACID_BATTERY)} \n",
    "   Rate:  50%\n",
    "   Specs: {BATTERY_VOLTAGE}V {BATTERY_AMPHOUR}Ah\n",
    "   Price: ₱{LEAD_ACID_PRICE}\n",
    "   Cost:  ₱{math.ceil(LEAD_ACID_PRICE * NUMBER_OF_LEAD_ACID_BATTERY)}\n",
    "   \n",
    "Lithium Battery: \n",
    "   Count: {math.ceil(NUMBER_OF_LITHIUM_BATTERY)}\n",
    "   Rate:  80%\n",
    "   Specs: {BATTERY_VOLTAGE}V {BATTERY_AMPHOUR}Ah\n",
    "   Price: ₱{LITHIUM_PRICE}\n",
    "   Cost:  ₱{math.ceil(LITHIUM_PRICE * NUMBER_OF_LITHIUM_BATTERY)}\n",
    "''')"
   ]
  },
  {
   "cell_type": "markdown",
   "metadata": {},
   "source": [
    "#### **Wiki**"
   ]
  },
  {
   "cell_type": "markdown",
   "metadata": {},
   "source": [
    "**Computing Power Estimated Loss**"
   ]
  },
  {
   "cell_type": "markdown",
   "metadata": {},
   "source": [
    "System loss = 3%\n",
    "\n",
    "Wiring loss = 2%\n",
    "\n",
    "MPPT loss = 10%\n",
    "\n",
    "Lead-Acid loss = 15%\n",
    "\n",
    "Solar-Inverter loss = 10%\n",
    "\n",
    "Total loss = **35%**"
   ]
  },
  {
   "cell_type": "markdown",
   "metadata": {},
   "source": [
    "**What is Days of Autonomy?**"
   ]
  },
  {
   "cell_type": "markdown",
   "metadata": {},
   "source": [
    "Days of back-up power, is for how many days of usage the battery bank can last as per estimated usage per day even if the solar panel does not generate power and only the stored energy from the battery is used.\n",
    "\n",
    "For example, the battery is fully charged, then the next morning the weather is cloudy or raining so the harvest or charging of battery is not good, but the battery can still supply the required power as per daily usage consumption."
   ]
  },
  {
   "cell_type": "markdown",
   "metadata": {},
   "source": [
    "**What is Depth of Discharge?**"
   ]
  },
  {
   "cell_type": "markdown",
   "metadata": {},
   "source": [
    "Each type of battery has a recommended capacity before recharging again to maximize the lifespan of the battery.  \n",
    "\n",
    "Minimum Discharge of Lead Acid Battery = 50%\n",
    "\n",
    "Minimum Discharge of Lithium Battery = 20%"
   ]
  },
  {
   "cell_type": "markdown",
   "metadata": {},
   "source": [
    "**Example**"
   ]
  },
  {
   "cell_type": "markdown",
   "metadata": {},
   "source": [
    "\n",
    "If 18,225wh is 80% capacity of the battery.\n",
    "\n",
    "```\n",
    "18,225 = 0.8\n",
    "18,225 * 1.25 = 0.8 * 1.25\n",
    "22,781 = 1\n",
    "\n",
    "Then, 18,225wh + 3,645wh = 22,781wh\n",
    "```"
   ]
  },
  {
   "cell_type": "markdown",
   "metadata": {},
   "source": [
    "If 18,225wh is 50% capacity of the battery.\n",
    "\n",
    "```\n",
    "18,225 = 0.5\n",
    "18,225 * 2 = 0.5 * 2\n",
    "36,450 = 1\n",
    "\n",
    "Then, 18,225wh + 18,225wh = 36,450wh\n",
    "```"
   ]
  },
  {
   "cell_type": "markdown",
   "metadata": {},
   "source": [
    "**Peak Sun Hour**"
   ]
  },
  {
   "cell_type": "markdown",
   "metadata": {},
   "source": [
    "Sun hours is the average solar radiation in one place and is used to estimate solar energy production. It measures the total intensity of sunlight that is 1000 per square meter per hour. Average day is not taken from sunrise to sunset, and sun hours vary from different places. \n",
    "\n",
    "In the Philippines, peak sun hour is between **3.5 to 4.8**"
   ]
  }
 ],
 "metadata": {
  "kernelspec": {
   "display_name": "venv",
   "language": "python",
   "name": "python3"
  },
  "language_info": {
   "codemirror_mode": {
    "name": "ipython",
    "version": 3
   },
   "file_extension": ".py",
   "mimetype": "text/x-python",
   "name": "python",
   "nbconvert_exporter": "python",
   "pygments_lexer": "ipython3",
   "version": "3.12.1"
  }
 },
 "nbformat": 4,
 "nbformat_minor": 2
}
