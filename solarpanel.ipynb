{
 "cells": [
  {
   "cell_type": "markdown",
   "metadata": {},
   "source": [
    "#### **Energy Consumption**"
   ]
  },
  {
   "cell_type": "code",
   "execution_count": 167,
   "metadata": {},
   "outputs": [],
   "source": [
    "# get this from electricity bill\n",
    "KWH_CONS_PER_MONTH = 270"
   ]
  },
  {
   "cell_type": "code",
   "execution_count": 168,
   "metadata": {},
   "outputs": [],
   "source": [
    "# conversion factor\n",
    "KWH_CONS_PER_DAY   = KWH_CONS_PER_MONTH / 30 \n",
    "WH_CONS_PER_DAY    = KWH_CONS_PER_DAY * 1000"
   ]
  },
  {
   "cell_type": "code",
   "execution_count": 169,
   "metadata": {},
   "outputs": [
    {
     "name": "stdout",
     "output_type": "stream",
     "text": [
      "KWH consumption per day:  9.0\n",
      "WH consumption per day:  9000.0\n"
     ]
    }
   ],
   "source": [
    "print('KWH consumption per day: ', KWH_CONS_PER_DAY)\n",
    "print('WH consumption per day: ', WH_CONS_PER_DAY)"
   ]
  },
  {
   "cell_type": "markdown",
   "metadata": {},
   "source": [
    "#### **Load Computation**"
   ]
  },
  {
   "cell_type": "code",
   "execution_count": 170,
   "metadata": {},
   "outputs": [],
   "source": [
    "LOSS_RATE = 0.35 # 35% estimated power loss \n",
    "DAYS_OF_AUTONOMY = 1.5 # one and a half day\n"
   ]
  },
  {
   "cell_type": "code",
   "execution_count": 171,
   "metadata": {},
   "outputs": [],
   "source": [
    "SYSTEM_LOSS      = WH_CONS_PER_DAY * LOSS_RATE # take loss into account\n",
    "ACTUAL_LOAD      = WH_CONS_PER_DAY + SYSTEM_LOSS # add loss to load\n",
    "SUSTAINABLE_LOAD = ACTUAL_LOAD * DAYS_OF_AUTONOMY # multiply load by days of autonomy"
   ]
  },
  {
   "cell_type": "code",
   "execution_count": 172,
   "metadata": {},
   "outputs": [
    {
     "name": "stdout",
     "output_type": "stream",
     "text": [
      "\n",
      "Actual Load:      12150.0 Wh\n",
      "Loss:             35.0% (3150.0 Wh)   \n",
      "Days of autonomy: 1.5 days\n",
      "Sustainable Load: 18225.0 Wh\n",
      "\n"
     ]
    }
   ],
   "source": [
    "print(f'''\n",
    "Actual Load:      {ACTUAL_LOAD} Wh\n",
    "Loss:             {LOSS_RATE * 100}% ({SYSTEM_LOSS} Wh)   \n",
    "Days of autonomy: {DAYS_OF_AUTONOMY} days\n",
    "Sustainable Load: {SUSTAINABLE_LOAD} Wh\n",
    "''')"
   ]
  },
  {
   "cell_type": "markdown",
   "metadata": {},
   "source": [
    "#### **Battery Needed**"
   ]
  },
  {
   "cell_type": "code",
   "execution_count": 173,
   "metadata": {},
   "outputs": [],
   "source": [
    "# battery specs\n",
    "BATTERY_VOLTAGE = 12\n",
    "BATTERY_AMPHOUR = 500\n",
    "BATTERY_WATTAGE = BATTERY_VOLTAGE * BATTERY_AMPHOUR\n"
   ]
  },
  {
   "cell_type": "code",
   "execution_count": 174,
   "metadata": {},
   "outputs": [],
   "source": [
    "# depth of discharge rates\n",
    "LEAD_ACID_DISCHARGE = 0.5 # multiply by 2 to get 1\n",
    "LITHIUM_DISCHARGE   = 0.8 # multiply by 1.25 to get 1\n",
    "\n",
    "# watt hour demand\n",
    "# if sustainable load is only 50% of the battery, increase by 2\n",
    "LEAD_ACID_WATTHOUR = SUSTAINABLE_LOAD * 2 \n",
    "# if sustainable load is only 80% of the battery, increase by 1.25\n",
    "LITHIUM_WATTHOUR   = SUSTAINABLE_LOAD * 1.25 \n",
    "\n",
    "# amp hour demand\n",
    "LEAD_ACID_AMPHOUR  = LEAD_ACID_WATTHOUR / BATTERY_VOLTAGE\n",
    "LITHIUM_AMPHOUR    = LITHIUM_WATTHOUR   / BATTERY_VOLTAGE \n",
    "\n",
    "# number of battery needed\n",
    "NUMBER_OF_LITHIUM_BATTERY   = LITHIUM_WATTHOUR   / BATTERY_WATTAGE\n",
    "NUMBER_OF_LEAD_ACID_BATTERY = LEAD_ACID_WATTHOUR / BATTERY_WATTAGE"
   ]
  },
  {
   "cell_type": "code",
   "execution_count": 175,
   "metadata": {},
   "outputs": [
    {
     "name": "stdout",
     "output_type": "stream",
     "text": [
      "Capacity Demand:\n",
      "   Lead Acid Watt Hour: 36450.0 Wh\n",
      "   Lithium Watt Hour:   22781.25 Wh\n",
      "   Lead Acid Amp Hour:  3037.5 Ah\n",
      "   Lithium Amp Hour:    1898.4375 Ah\n",
      "\n",
      "\n",
      "Lead Acid Battery: No. 7 \n",
      "   12V 500Ah\n",
      "   \n",
      "Lithium Battery: No. 4\n",
      "   12V 500Ah\n",
      "\n"
     ]
    }
   ],
   "source": [
    "import math \n",
    "\n",
    "print(f'''Capacity Demand:\n",
    "   Lead Acid Watt Hour: {LEAD_ACID_WATTHOUR} Wh\n",
    "   Lithium Watt Hour:   {LITHIUM_WATTHOUR} Wh\n",
    "   Lead Acid Amp Hour:  {LEAD_ACID_AMPHOUR} Ah\n",
    "   Lithium Amp Hour:    {LITHIUM_AMPHOUR} Ah\n",
    "''')\n",
    "\n",
    "print(f'''\n",
    "Lead Acid Battery: No. {math.ceil(NUMBER_OF_LEAD_ACID_BATTERY)} \n",
    "   {BATTERY_VOLTAGE}V {BATTERY_AMPHOUR}Ah\n",
    "   \n",
    "Lithium Battery: No. {math.ceil(NUMBER_OF_LITHIUM_BATTERY)}\n",
    "   {BATTERY_VOLTAGE}V {BATTERY_AMPHOUR}Ah\n",
    "''')"
   ]
  },
  {
   "cell_type": "markdown",
   "metadata": {},
   "source": [
    "#### **Solar Panel Needed** "
   ]
  },
  {
   "cell_type": "code",
   "execution_count": 176,
   "metadata": {},
   "outputs": [],
   "source": [
    "PEAK_SUN_HOURS = 4\n"
   ]
  },
  {
   "cell_type": "markdown",
   "metadata": {},
   "source": [
    "36,450wh * 0.5 = **18,225wh** = 18,225wh\n",
    "\n",
    "22,788wh * 0.8 = **18,231wh** > 18,225wh"
   ]
  },
  {
   "cell_type": "markdown",
   "metadata": {},
   "source": [
    "**Watts Required**"
   ]
  },
  {
   "cell_type": "markdown",
   "metadata": {},
   "source": [
    "Total Panel Demand = **4558w** = 18,231wh / 4 hrs "
   ]
  },
  {
   "cell_type": "markdown",
   "metadata": {},
   "source": [
    "**Distributed Calculation**"
   ]
  },
  {
   "cell_type": "markdown",
   "metadata": {},
   "source": [
    "Panel Specs = 300w\n",
    "\n",
    "Number of Panels = **16** = 4558 / 300 "
   ]
  },
  {
   "cell_type": "markdown",
   "metadata": {},
   "source": [
    "#### **Wiki**"
   ]
  },
  {
   "cell_type": "markdown",
   "metadata": {},
   "source": [
    "**Computing Power Estimated Loss**"
   ]
  },
  {
   "cell_type": "markdown",
   "metadata": {},
   "source": [
    "System loss = 3%\n",
    "\n",
    "Wiring loss = 2%\n",
    "\n",
    "MPPT loss = 10%\n",
    "\n",
    "Lead-Acid loss = 15%\n",
    "\n",
    "Solar-Inverter loss = 10%\n",
    "\n",
    "Total loss = **35%**"
   ]
  },
  {
   "cell_type": "markdown",
   "metadata": {},
   "source": [
    "**What is Days of Autonomy?**"
   ]
  },
  {
   "cell_type": "markdown",
   "metadata": {},
   "source": [
    "Days of back-up power, is for how many days of usage the battery bank can last as per estimated usage per day even if the solar panel does not generate power and only the stored energy from the battery is used.\n",
    "\n",
    "For example, the battery is fully charged, then the next morning the weather is cloudy or raining so the harvest or charging of battery is not good, but the battery can still supply the required power as per daily usage consumption."
   ]
  },
  {
   "cell_type": "markdown",
   "metadata": {},
   "source": [
    "**What is Depth of Discharge?**"
   ]
  },
  {
   "cell_type": "markdown",
   "metadata": {},
   "source": [
    "Each type of battery has a recommended capacity before recharging again to maximize the lifespan of the battery.  \n",
    "\n",
    "Minimum Discharge of Lead Acid Battery = 50%\n",
    "\n",
    "Minimum Discharge of Lithium Battery = 20%"
   ]
  },
  {
   "cell_type": "markdown",
   "metadata": {},
   "source": [
    "**Example**"
   ]
  },
  {
   "cell_type": "markdown",
   "metadata": {},
   "source": [
    "\n",
    "If 18,225wh is 80% capacity of the battery.\n",
    "\n",
    "```\n",
    "18,225 = 0.8\n",
    "18,225 * 1.25 = 0.8 * 1.25\n",
    "22,781 = 1\n",
    "\n",
    "Then, 18,225wh + 3,645wh = 22,781wh\n",
    "```"
   ]
  },
  {
   "cell_type": "markdown",
   "metadata": {},
   "source": [
    "If 18,225wh is 50% capacity of the battery.\n",
    "\n",
    "```\n",
    "18,225 = 0.5\n",
    "18,225 * 2 = 0.5 * 2\n",
    "36,450 = 1\n",
    "\n",
    "Then, 18,225wh + 18,225wh = 36,450wh\n",
    "```"
   ]
  },
  {
   "cell_type": "markdown",
   "metadata": {},
   "source": [
    "**Peak Sun Hour**"
   ]
  },
  {
   "cell_type": "markdown",
   "metadata": {},
   "source": [
    "Sun hours is the average solar radiation in one place and is used to estimate solar energy production. It measures the total intensity of sunlight that is 1000 per square meter per hour. Average day is not taken from sunrise to sunset, and sun hours vary from different places. \n",
    "\n",
    "In the Philippines, peak sun hour is between **3.5 to 4.8**"
   ]
  }
 ],
 "metadata": {
  "kernelspec": {
   "display_name": "venv",
   "language": "python",
   "name": "python3"
  },
  "language_info": {
   "codemirror_mode": {
    "name": "ipython",
    "version": 3
   },
   "file_extension": ".py",
   "mimetype": "text/x-python",
   "name": "python",
   "nbconvert_exporter": "python",
   "pygments_lexer": "ipython3",
   "version": "3.12.1"
  }
 },
 "nbformat": 4,
 "nbformat_minor": 2
}
